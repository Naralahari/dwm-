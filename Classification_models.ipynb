{
  "cells": [
    {
      "cell_type": "markdown",
      "metadata": {
        "id": "view-in-github",
        "colab_type": "text"
      },
      "source": [
        "<a href=\"https://colab.research.google.com/github/Naralahari/dwm-/blob/main/Classification_models.ipynb\" target=\"_parent\"><img src=\"https://colab.research.google.com/assets/colab-badge.svg\" alt=\"Open In Colab\"/></a>"
      ]
    },
    {
      "cell_type": "code",
      "execution_count": null,
      "metadata": {
        "id": "tnCXHCdu644x"
      },
      "outputs": [],
      "source": [
        "import numpy as np\n",
        "import pandas as pd\n",
        "\n",
        "from sklearn.tree import DecisionTreeClassifier\n",
        "from sklearn.neighbors import KNeighborsClassifier\n",
        "from sklearn.linear_model import LogisticRegression\n",
        "from sklearn.svm import SVC\n",
        "from sklearn.naive_bayes import GaussianNB\n",
        "\n",
        "from sklearn.model_selection import train_test_split\n",
        "from sklearn import metrics"
      ]
    },
    {
      "cell_type": "code",
      "execution_count": null,
      "metadata": {
        "id": "e4KwgQX9644z",
        "outputId": "80dc00f8-5f09-41b7-be68-b27725d7f0de"
      },
      "outputs": [
        {
          "data": {
            "text/html": [
              "<div>\n",
              "<style scoped>\n",
              "    .dataframe tbody tr th:only-of-type {\n",
              "        vertical-align: middle;\n",
              "    }\n",
              "\n",
              "    .dataframe tbody tr th {\n",
              "        vertical-align: top;\n",
              "    }\n",
              "\n",
              "    .dataframe thead th {\n",
              "        text-align: right;\n",
              "    }\n",
              "</style>\n",
              "<table border=\"1\" class=\"dataframe\">\n",
              "  <thead>\n",
              "    <tr style=\"text-align: right;\">\n",
              "      <th></th>\n",
              "      <th>Roll No</th>\n",
              "      <th>Gender</th>\n",
              "      <th>Section</th>\n",
              "      <th>SSC Percentage</th>\n",
              "      <th>inter_Diploma_percentage</th>\n",
              "      <th>B.Tech_percentage</th>\n",
              "      <th>Backlogs</th>\n",
              "      <th>registered_for_ Placement_Training</th>\n",
              "      <th>placement status</th>\n",
              "    </tr>\n",
              "  </thead>\n",
              "  <tbody>\n",
              "    <tr>\n",
              "      <th>0</th>\n",
              "      <td>1</td>\n",
              "      <td>M</td>\n",
              "      <td>A</td>\n",
              "      <td>87.3</td>\n",
              "      <td>65.3</td>\n",
              "      <td>40.00</td>\n",
              "      <td>18</td>\n",
              "      <td>NO</td>\n",
              "      <td>Not placed</td>\n",
              "    </tr>\n",
              "    <tr>\n",
              "      <th>1</th>\n",
              "      <td>2</td>\n",
              "      <td>F</td>\n",
              "      <td>A</td>\n",
              "      <td>89.0</td>\n",
              "      <td>92.4</td>\n",
              "      <td>71.45</td>\n",
              "      <td>0</td>\n",
              "      <td>yes</td>\n",
              "      <td>Placed</td>\n",
              "    </tr>\n",
              "    <tr>\n",
              "      <th>2</th>\n",
              "      <td>3</td>\n",
              "      <td>F</td>\n",
              "      <td>A</td>\n",
              "      <td>67.0</td>\n",
              "      <td>68.0</td>\n",
              "      <td>45.26</td>\n",
              "      <td>13</td>\n",
              "      <td>yes</td>\n",
              "      <td>Not placed</td>\n",
              "    </tr>\n",
              "    <tr>\n",
              "      <th>3</th>\n",
              "      <td>4</td>\n",
              "      <td>M</td>\n",
              "      <td>A</td>\n",
              "      <td>71.0</td>\n",
              "      <td>70.4</td>\n",
              "      <td>36.47</td>\n",
              "      <td>17</td>\n",
              "      <td>yes</td>\n",
              "      <td>Not placed</td>\n",
              "    </tr>\n",
              "    <tr>\n",
              "      <th>4</th>\n",
              "      <td>5</td>\n",
              "      <td>M</td>\n",
              "      <td>A</td>\n",
              "      <td>NaN</td>\n",
              "      <td>65.5</td>\n",
              "      <td>42.52</td>\n",
              "      <td>17</td>\n",
              "      <td>yes</td>\n",
              "      <td>Not placed</td>\n",
              "    </tr>\n",
              "  </tbody>\n",
              "</table>\n",
              "</div>"
            ],
            "text/plain": [
              "   Roll No Gender Section  SSC Percentage  inter_Diploma_percentage  \\\n",
              "0        1      M       A            87.3                      65.3   \n",
              "1        2      F       A            89.0                      92.4   \n",
              "2        3      F       A            67.0                      68.0   \n",
              "3        4      M       A            71.0                      70.4   \n",
              "4        5      M       A             NaN                      65.5   \n",
              "\n",
              "   B.Tech_percentage  Backlogs registered_for_ Placement_Training  \\\n",
              "0              40.00        18                                 NO   \n",
              "1              71.45         0                                yes   \n",
              "2              45.26        13                                yes   \n",
              "3              36.47        17                                yes   \n",
              "4              42.52        17                                yes   \n",
              "\n",
              "  placement status  \n",
              "0       Not placed  \n",
              "1           Placed  \n",
              "2       Not placed  \n",
              "3       Not placed  \n",
              "4       Not placed  "
            ]
          },
          "execution_count": 2,
          "metadata": {},
          "output_type": "execute_result"
        }
      ],
      "source": [
        "data=pd.read_csv(\"students_placement_data.csv\")\n",
        "data.head()"
      ]
    },
    {
      "cell_type": "code",
      "execution_count": null,
      "metadata": {
        "id": "cMA2K7T16442",
        "outputId": "45c7bb61-491e-49ae-c54e-5b7f38e46242"
      },
      "outputs": [
        {
          "data": {
            "text/html": [
              "<div>\n",
              "<style scoped>\n",
              "    .dataframe tbody tr th:only-of-type {\n",
              "        vertical-align: middle;\n",
              "    }\n",
              "\n",
              "    .dataframe tbody tr th {\n",
              "        vertical-align: top;\n",
              "    }\n",
              "\n",
              "    .dataframe thead th {\n",
              "        text-align: right;\n",
              "    }\n",
              "</style>\n",
              "<table border=\"1\" class=\"dataframe\">\n",
              "  <thead>\n",
              "    <tr style=\"text-align: right;\">\n",
              "      <th></th>\n",
              "      <th>Roll No</th>\n",
              "      <th>Gender</th>\n",
              "      <th>Section</th>\n",
              "      <th>SSC Percentage</th>\n",
              "      <th>inter_Diploma_percentage</th>\n",
              "      <th>B.Tech_percentage</th>\n",
              "      <th>Backlogs</th>\n",
              "      <th>registered_for_ Placement_Training</th>\n",
              "      <th>placement status</th>\n",
              "    </tr>\n",
              "  </thead>\n",
              "  <tbody>\n",
              "    <tr>\n",
              "      <th>0</th>\n",
              "      <td>1</td>\n",
              "      <td>M</td>\n",
              "      <td>A</td>\n",
              "      <td>87.300000</td>\n",
              "      <td>65.3</td>\n",
              "      <td>40.00</td>\n",
              "      <td>18</td>\n",
              "      <td>NO</td>\n",
              "      <td>Not placed</td>\n",
              "    </tr>\n",
              "    <tr>\n",
              "      <th>1</th>\n",
              "      <td>2</td>\n",
              "      <td>F</td>\n",
              "      <td>A</td>\n",
              "      <td>89.000000</td>\n",
              "      <td>92.4</td>\n",
              "      <td>71.45</td>\n",
              "      <td>0</td>\n",
              "      <td>yes</td>\n",
              "      <td>Placed</td>\n",
              "    </tr>\n",
              "    <tr>\n",
              "      <th>2</th>\n",
              "      <td>3</td>\n",
              "      <td>F</td>\n",
              "      <td>A</td>\n",
              "      <td>67.000000</td>\n",
              "      <td>68.0</td>\n",
              "      <td>45.26</td>\n",
              "      <td>13</td>\n",
              "      <td>yes</td>\n",
              "      <td>Not placed</td>\n",
              "    </tr>\n",
              "    <tr>\n",
              "      <th>3</th>\n",
              "      <td>4</td>\n",
              "      <td>M</td>\n",
              "      <td>A</td>\n",
              "      <td>71.000000</td>\n",
              "      <td>70.4</td>\n",
              "      <td>36.47</td>\n",
              "      <td>17</td>\n",
              "      <td>yes</td>\n",
              "      <td>Not placed</td>\n",
              "    </tr>\n",
              "    <tr>\n",
              "      <th>4</th>\n",
              "      <td>5</td>\n",
              "      <td>M</td>\n",
              "      <td>A</td>\n",
              "      <td>80.474569</td>\n",
              "      <td>65.5</td>\n",
              "      <td>42.52</td>\n",
              "      <td>17</td>\n",
              "      <td>yes</td>\n",
              "      <td>Not placed</td>\n",
              "    </tr>\n",
              "  </tbody>\n",
              "</table>\n",
              "</div>"
            ],
            "text/plain": [
              "   Roll No Gender Section  SSC Percentage  inter_Diploma_percentage  \\\n",
              "0        1      M       A       87.300000                      65.3   \n",
              "1        2      F       A       89.000000                      92.4   \n",
              "2        3      F       A       67.000000                      68.0   \n",
              "3        4      M       A       71.000000                      70.4   \n",
              "4        5      M       A       80.474569                      65.5   \n",
              "\n",
              "   B.Tech_percentage  Backlogs registered_for_ Placement_Training  \\\n",
              "0              40.00        18                                 NO   \n",
              "1              71.45         0                                yes   \n",
              "2              45.26        13                                yes   \n",
              "3              36.47        17                                yes   \n",
              "4              42.52        17                                yes   \n",
              "\n",
              "  placement status  \n",
              "0       Not placed  \n",
              "1           Placed  \n",
              "2       Not placed  \n",
              "3       Not placed  \n",
              "4       Not placed  "
            ]
          },
          "execution_count": 4,
          "metadata": {},
          "output_type": "execute_result"
        }
      ],
      "source": [
        "data[\"SSC Percentage\"]=data[\"SSC Percentage\"].replace(to_replace=np.nan,value=data[\"SSC Percentage\"].mean())  \n",
        "data.head()"
      ]
    },
    {
      "cell_type": "code",
      "execution_count": null,
      "metadata": {
        "id": "UK30xtZ46442",
        "outputId": "94f77658-889c-477b-87cc-7643b6dcf518"
      },
      "outputs": [
        {
          "data": {
            "text/html": [
              "<div>\n",
              "<style scoped>\n",
              "    .dataframe tbody tr th:only-of-type {\n",
              "        vertical-align: middle;\n",
              "    }\n",
              "\n",
              "    .dataframe tbody tr th {\n",
              "        vertical-align: top;\n",
              "    }\n",
              "\n",
              "    .dataframe thead th {\n",
              "        text-align: right;\n",
              "    }\n",
              "</style>\n",
              "<table border=\"1\" class=\"dataframe\">\n",
              "  <thead>\n",
              "    <tr style=\"text-align: right;\">\n",
              "      <th></th>\n",
              "      <th>Roll No</th>\n",
              "      <th>Gender</th>\n",
              "      <th>Section</th>\n",
              "      <th>SSC Percentage</th>\n",
              "      <th>inter_Diploma_percentage</th>\n",
              "      <th>B.Tech_percentage</th>\n",
              "      <th>Backlogs</th>\n",
              "      <th>registered_for_ Placement_Training</th>\n",
              "      <th>placement status</th>\n",
              "    </tr>\n",
              "  </thead>\n",
              "  <tbody>\n",
              "    <tr>\n",
              "      <th>0</th>\n",
              "      <td>1</td>\n",
              "      <td>M</td>\n",
              "      <td>A</td>\n",
              "      <td>87.300000</td>\n",
              "      <td>65.3</td>\n",
              "      <td>40.00</td>\n",
              "      <td>18</td>\n",
              "      <td>NO</td>\n",
              "      <td>Not placed</td>\n",
              "    </tr>\n",
              "    <tr>\n",
              "      <th>1</th>\n",
              "      <td>2</td>\n",
              "      <td>F</td>\n",
              "      <td>A</td>\n",
              "      <td>89.000000</td>\n",
              "      <td>92.4</td>\n",
              "      <td>71.45</td>\n",
              "      <td>0</td>\n",
              "      <td>yes</td>\n",
              "      <td>Placed</td>\n",
              "    </tr>\n",
              "    <tr>\n",
              "      <th>2</th>\n",
              "      <td>3</td>\n",
              "      <td>F</td>\n",
              "      <td>A</td>\n",
              "      <td>67.000000</td>\n",
              "      <td>68.0</td>\n",
              "      <td>45.26</td>\n",
              "      <td>13</td>\n",
              "      <td>yes</td>\n",
              "      <td>Not placed</td>\n",
              "    </tr>\n",
              "    <tr>\n",
              "      <th>3</th>\n",
              "      <td>4</td>\n",
              "      <td>M</td>\n",
              "      <td>A</td>\n",
              "      <td>71.000000</td>\n",
              "      <td>70.4</td>\n",
              "      <td>36.47</td>\n",
              "      <td>17</td>\n",
              "      <td>yes</td>\n",
              "      <td>Not placed</td>\n",
              "    </tr>\n",
              "    <tr>\n",
              "      <th>4</th>\n",
              "      <td>5</td>\n",
              "      <td>M</td>\n",
              "      <td>A</td>\n",
              "      <td>80.474569</td>\n",
              "      <td>65.5</td>\n",
              "      <td>42.52</td>\n",
              "      <td>17</td>\n",
              "      <td>yes</td>\n",
              "      <td>Not placed</td>\n",
              "    </tr>\n",
              "  </tbody>\n",
              "</table>\n",
              "</div>"
            ],
            "text/plain": [
              "   Roll No Gender Section  SSC Percentage  inter_Diploma_percentage  \\\n",
              "0        1      M       A       87.300000                      65.3   \n",
              "1        2      F       A       89.000000                      92.4   \n",
              "2        3      F       A       67.000000                      68.0   \n",
              "3        4      M       A       71.000000                      70.4   \n",
              "4        5      M       A       80.474569                      65.5   \n",
              "\n",
              "   B.Tech_percentage  Backlogs registered_for_ Placement_Training  \\\n",
              "0              40.00        18                                 NO   \n",
              "1              71.45         0                                yes   \n",
              "2              45.26        13                                yes   \n",
              "3              36.47        17                                yes   \n",
              "4              42.52        17                                yes   \n",
              "\n",
              "  placement status  \n",
              "0       Not placed  \n",
              "1           Placed  \n",
              "2       Not placed  \n",
              "3       Not placed  \n",
              "4       Not placed  "
            ]
          },
          "execution_count": 5,
          "metadata": {},
          "output_type": "execute_result"
        }
      ],
      "source": [
        "data[\"registered_for_ Placement_Training\"]=data[\"registered_for_ Placement_Training\"].replace(to_replace=np.nan,value=data[\"registered_for_ Placement_Training\"].mode()[0])  \n",
        "data.head()\n",
        "\n"
      ]
    },
    {
      "cell_type": "code",
      "execution_count": null,
      "metadata": {
        "id": "ZYP8DYZh6443",
        "outputId": "cbbe0f04-56b7-481a-9659-6b78e933f24d"
      },
      "outputs": [
        {
          "data": {
            "text/plain": [
              "Roll No                               False\n",
              "Gender                                False\n",
              "Section                               False\n",
              "SSC Percentage                        False\n",
              "inter_Diploma_percentage              False\n",
              "B.Tech_percentage                     False\n",
              "Backlogs                              False\n",
              "registered_for_ Placement_Training    False\n",
              "placement status                      False\n",
              "dtype: bool"
            ]
          },
          "execution_count": 6,
          "metadata": {},
          "output_type": "execute_result"
        }
      ],
      "source": [
        "data.isna().any()"
      ]
    },
    {
      "cell_type": "code",
      "execution_count": null,
      "metadata": {
        "id": "vkhmR96-6444"
      },
      "outputs": [],
      "source": [
        "data['Gender'] = data['Gender'].map({'M': 0, 'F': 1})\n",
        "data['Section']=data['Section'].map({'A':0,'B':1})\n",
        "data['registered_for_ Placement_Training']=data['registered_for_ Placement_Training'].map({'NO':0,'yes':1})"
      ]
    },
    {
      "cell_type": "code",
      "execution_count": null,
      "metadata": {
        "id": "MnicJzdn6444",
        "outputId": "0c35d23e-b7e9-4afd-9e1b-f77e685f170a"
      },
      "outputs": [
        {
          "data": {
            "text/html": [
              "<div>\n",
              "<style scoped>\n",
              "    .dataframe tbody tr th:only-of-type {\n",
              "        vertical-align: middle;\n",
              "    }\n",
              "\n",
              "    .dataframe tbody tr th {\n",
              "        vertical-align: top;\n",
              "    }\n",
              "\n",
              "    .dataframe thead th {\n",
              "        text-align: right;\n",
              "    }\n",
              "</style>\n",
              "<table border=\"1\" class=\"dataframe\">\n",
              "  <thead>\n",
              "    <tr style=\"text-align: right;\">\n",
              "      <th></th>\n",
              "      <th>Roll No</th>\n",
              "      <th>Gender</th>\n",
              "      <th>Section</th>\n",
              "      <th>SSC Percentage</th>\n",
              "      <th>inter_Diploma_percentage</th>\n",
              "      <th>B.Tech_percentage</th>\n",
              "      <th>Backlogs</th>\n",
              "      <th>registered_for_ Placement_Training</th>\n",
              "      <th>placement status</th>\n",
              "    </tr>\n",
              "  </thead>\n",
              "  <tbody>\n",
              "    <tr>\n",
              "      <th>0</th>\n",
              "      <td>1</td>\n",
              "      <td>0</td>\n",
              "      <td>0</td>\n",
              "      <td>87.300000</td>\n",
              "      <td>65.3</td>\n",
              "      <td>40.00</td>\n",
              "      <td>18</td>\n",
              "      <td>0</td>\n",
              "      <td>Not placed</td>\n",
              "    </tr>\n",
              "    <tr>\n",
              "      <th>1</th>\n",
              "      <td>2</td>\n",
              "      <td>1</td>\n",
              "      <td>0</td>\n",
              "      <td>89.000000</td>\n",
              "      <td>92.4</td>\n",
              "      <td>71.45</td>\n",
              "      <td>0</td>\n",
              "      <td>1</td>\n",
              "      <td>Placed</td>\n",
              "    </tr>\n",
              "    <tr>\n",
              "      <th>2</th>\n",
              "      <td>3</td>\n",
              "      <td>1</td>\n",
              "      <td>0</td>\n",
              "      <td>67.000000</td>\n",
              "      <td>68.0</td>\n",
              "      <td>45.26</td>\n",
              "      <td>13</td>\n",
              "      <td>1</td>\n",
              "      <td>Not placed</td>\n",
              "    </tr>\n",
              "    <tr>\n",
              "      <th>3</th>\n",
              "      <td>4</td>\n",
              "      <td>0</td>\n",
              "      <td>0</td>\n",
              "      <td>71.000000</td>\n",
              "      <td>70.4</td>\n",
              "      <td>36.47</td>\n",
              "      <td>17</td>\n",
              "      <td>1</td>\n",
              "      <td>Not placed</td>\n",
              "    </tr>\n",
              "    <tr>\n",
              "      <th>4</th>\n",
              "      <td>5</td>\n",
              "      <td>0</td>\n",
              "      <td>0</td>\n",
              "      <td>80.474569</td>\n",
              "      <td>65.5</td>\n",
              "      <td>42.52</td>\n",
              "      <td>17</td>\n",
              "      <td>1</td>\n",
              "      <td>Not placed</td>\n",
              "    </tr>\n",
              "  </tbody>\n",
              "</table>\n",
              "</div>"
            ],
            "text/plain": [
              "   Roll No  Gender  Section  SSC Percentage  inter_Diploma_percentage  \\\n",
              "0        1       0        0       87.300000                      65.3   \n",
              "1        2       1        0       89.000000                      92.4   \n",
              "2        3       1        0       67.000000                      68.0   \n",
              "3        4       0        0       71.000000                      70.4   \n",
              "4        5       0        0       80.474569                      65.5   \n",
              "\n",
              "   B.Tech_percentage  Backlogs  registered_for_ Placement_Training  \\\n",
              "0              40.00        18                                   0   \n",
              "1              71.45         0                                   1   \n",
              "2              45.26        13                                   1   \n",
              "3              36.47        17                                   1   \n",
              "4              42.52        17                                   1   \n",
              "\n",
              "  placement status  \n",
              "0       Not placed  \n",
              "1           Placed  \n",
              "2       Not placed  \n",
              "3       Not placed  \n",
              "4       Not placed  "
            ]
          },
          "execution_count": 8,
          "metadata": {},
          "output_type": "execute_result"
        }
      ],
      "source": [
        "data.head()"
      ]
    },
    {
      "cell_type": "code",
      "execution_count": null,
      "metadata": {
        "id": "KgGi-i1M6445"
      },
      "outputs": [],
      "source": [
        "\n",
        "X=data[[\"Gender\",\"Section\",\"SSC Percentage\",\"inter_Diploma_percentage\",\"B.Tech_percentage\",\"Backlogs\",\"registered_for_ Placement_Training\"]].values"
      ]
    },
    {
      "cell_type": "code",
      "execution_count": null,
      "metadata": {
        "id": "Li7HBDz76445"
      },
      "outputs": [],
      "source": [
        "\n",
        "y=data[\"placement status\"]"
      ]
    },
    {
      "cell_type": "code",
      "execution_count": null,
      "metadata": {
        "id": "7BSndQk56446"
      },
      "outputs": [],
      "source": [
        "X_train, X_test, y_train, y_test = train_test_split(X, y, test_size=0.2, random_state=10)"
      ]
    },
    {
      "cell_type": "code",
      "execution_count": null,
      "metadata": {
        "id": "ZXtz-oYU6446",
        "outputId": "10bb14d4-0104-497c-e208-251ea9f025e8"
      },
      "outputs": [
        {
          "name": "stdout",
          "output_type": "stream",
          "text": [
            " The shape of original feature set is :  (117, 7)\n",
            "The shape of original class labels is (117,)\n",
            " The shape of Features in training data (93, 7)\n",
            "The shape of class labels in training data (93,)\n",
            " The shape of Features in test data (24, 7)\n",
            "The shape of class labels in test data (24,)\n"
          ]
        }
      ],
      "source": [
        "print (\" The shape of original feature set is : \",X.shape)\n",
        "print(\"The shape of original class labels is\", y.shape)\n",
        "print(\" The shape of Features in training data\",X_train.shape)\n",
        "print(\"The shape of class labels in training data\",y_train.shape)\n",
        "print(\" The shape of Features in test data\",X_test.shape)\n",
        "print(\"The shape of class labels in test data\",y_test.shape)"
      ]
    },
    {
      "cell_type": "code",
      "execution_count": null,
      "metadata": {
        "id": "jiUfDK4o6447"
      },
      "outputs": [],
      "source": [
        "model_DT = DecisionTreeClassifier() \n",
        "model_DT = model_DT.fit(X_train,y_train)\n",
        "y_predict_DT = model_DT.predict(X_test) "
      ]
    },
    {
      "cell_type": "code",
      "execution_count": null,
      "metadata": {
        "id": "XFHEPKsT6447",
        "outputId": "5ee487f3-df83-433d-f9e0-9c624986d450"
      },
      "outputs": [
        {
          "data": {
            "text/html": [
              "<div>\n",
              "<style scoped>\n",
              "    .dataframe tbody tr th:only-of-type {\n",
              "        vertical-align: middle;\n",
              "    }\n",
              "\n",
              "    .dataframe tbody tr th {\n",
              "        vertical-align: top;\n",
              "    }\n",
              "\n",
              "    .dataframe thead th {\n",
              "        text-align: right;\n",
              "    }\n",
              "</style>\n",
              "<table border=\"1\" class=\"dataframe\">\n",
              "  <thead>\n",
              "    <tr style=\"text-align: right;\">\n",
              "      <th></th>\n",
              "      <th>predicted</th>\n",
              "      <th>Actual</th>\n",
              "    </tr>\n",
              "  </thead>\n",
              "  <tbody>\n",
              "    <tr>\n",
              "      <th>45</th>\n",
              "      <td>Not placed</td>\n",
              "      <td>Placed</td>\n",
              "    </tr>\n",
              "    <tr>\n",
              "      <th>95</th>\n",
              "      <td>Not placed</td>\n",
              "      <td>Not placed</td>\n",
              "    </tr>\n",
              "    <tr>\n",
              "      <th>56</th>\n",
              "      <td>Not placed</td>\n",
              "      <td>Not placed</td>\n",
              "    </tr>\n",
              "    <tr>\n",
              "      <th>84</th>\n",
              "      <td>Not placed</td>\n",
              "      <td>Placed</td>\n",
              "    </tr>\n",
              "    <tr>\n",
              "      <th>98</th>\n",
              "      <td>Placed</td>\n",
              "      <td>Placed</td>\n",
              "    </tr>\n",
              "  </tbody>\n",
              "</table>\n",
              "</div>"
            ],
            "text/plain": [
              "     predicted      Actual\n",
              "45  Not placed      Placed\n",
              "95  Not placed  Not placed\n",
              "56  Not placed  Not placed\n",
              "84  Not placed      Placed\n",
              "98      Placed      Placed"
            ]
          },
          "execution_count": 14,
          "metadata": {},
          "output_type": "execute_result"
        }
      ],
      "source": [
        "Actual_predicted_DT=pd.DataFrame({'predicted':y_predict_DT, 'Actual':y_test})\n",
        "Actual_predicted_DT.head()"
      ]
    },
    {
      "cell_type": "code",
      "execution_count": null,
      "metadata": {
        "id": "H-edle_26448"
      },
      "outputs": [],
      "source": [
        "model = KNeighborsClassifier(n_neighbors=3)\n",
        "model = model.fit(X_train,y_train)\n",
        "y_predict_knn = model.predict(X_test)"
      ]
    },
    {
      "cell_type": "code",
      "execution_count": null,
      "metadata": {
        "id": "roTCf7d56448",
        "outputId": "cfb24680-fa40-420d-bf45-0a04c402d9bc"
      },
      "outputs": [
        {
          "data": {
            "text/html": [
              "<div>\n",
              "<style scoped>\n",
              "    .dataframe tbody tr th:only-of-type {\n",
              "        vertical-align: middle;\n",
              "    }\n",
              "\n",
              "    .dataframe tbody tr th {\n",
              "        vertical-align: top;\n",
              "    }\n",
              "\n",
              "    .dataframe thead th {\n",
              "        text-align: right;\n",
              "    }\n",
              "</style>\n",
              "<table border=\"1\" class=\"dataframe\">\n",
              "  <thead>\n",
              "    <tr style=\"text-align: right;\">\n",
              "      <th></th>\n",
              "      <th>predicted</th>\n",
              "      <th>Actual</th>\n",
              "    </tr>\n",
              "  </thead>\n",
              "  <tbody>\n",
              "    <tr>\n",
              "      <th>45</th>\n",
              "      <td>Placed</td>\n",
              "      <td>Placed</td>\n",
              "    </tr>\n",
              "    <tr>\n",
              "      <th>95</th>\n",
              "      <td>Not placed</td>\n",
              "      <td>Not placed</td>\n",
              "    </tr>\n",
              "    <tr>\n",
              "      <th>56</th>\n",
              "      <td>Not placed</td>\n",
              "      <td>Not placed</td>\n",
              "    </tr>\n",
              "    <tr>\n",
              "      <th>84</th>\n",
              "      <td>Not placed</td>\n",
              "      <td>Placed</td>\n",
              "    </tr>\n",
              "    <tr>\n",
              "      <th>98</th>\n",
              "      <td>Placed</td>\n",
              "      <td>Placed</td>\n",
              "    </tr>\n",
              "  </tbody>\n",
              "</table>\n",
              "</div>"
            ],
            "text/plain": [
              "     predicted      Actual\n",
              "45      Placed      Placed\n",
              "95  Not placed  Not placed\n",
              "56  Not placed  Not placed\n",
              "84  Not placed      Placed\n",
              "98      Placed      Placed"
            ]
          },
          "execution_count": 18,
          "metadata": {},
          "output_type": "execute_result"
        }
      ],
      "source": [
        "Actual_predicted_knn=pd.DataFrame({'predicted':y_predict_knn, 'Actual':y_test})\n",
        "Actual_predicted_knn.head()"
      ]
    },
    {
      "cell_type": "code",
      "execution_count": null,
      "metadata": {
        "id": "NTbikeRu6449",
        "outputId": "55f4ecc5-0f62-47bc-8578-9e52270e910b"
      },
      "outputs": [
        {
          "data": {
            "text/html": [
              "<div>\n",
              "<style scoped>\n",
              "    .dataframe tbody tr th:only-of-type {\n",
              "        vertical-align: middle;\n",
              "    }\n",
              "\n",
              "    .dataframe tbody tr th {\n",
              "        vertical-align: top;\n",
              "    }\n",
              "\n",
              "    .dataframe thead th {\n",
              "        text-align: right;\n",
              "    }\n",
              "</style>\n",
              "<table border=\"1\" class=\"dataframe\">\n",
              "  <thead>\n",
              "    <tr style=\"text-align: right;\">\n",
              "      <th></th>\n",
              "      <th>Not placed Predicted</th>\n",
              "      <th>placed predicted</th>\n",
              "    </tr>\n",
              "  </thead>\n",
              "  <tbody>\n",
              "    <tr>\n",
              "      <th>Not placed</th>\n",
              "      <td>12</td>\n",
              "      <td>2</td>\n",
              "    </tr>\n",
              "    <tr>\n",
              "      <th>placed</th>\n",
              "      <td>3</td>\n",
              "      <td>7</td>\n",
              "    </tr>\n",
              "  </tbody>\n",
              "</table>\n",
              "</div>"
            ],
            "text/plain": [
              "            Not placed Predicted  placed predicted\n",
              "Not placed                    12                 2\n",
              "placed                         3                 7"
            ]
          },
          "execution_count": 19,
          "metadata": {},
          "output_type": "execute_result"
        }
      ],
      "source": [
        "from sklearn.metrics import confusion_matrix\n",
        "\n",
        "pd.DataFrame(\n",
        "    confusion_matrix(y_test, y_predict_knn),\n",
        "    columns=['Not placed Predicted', 'placed predicted'],\n",
        "    index=['Not placed', 'placed']\n",
        ")"
      ]
    },
    {
      "cell_type": "code",
      "execution_count": null,
      "metadata": {
        "id": "t_fYPkDm6449",
        "outputId": "d9c467a0-e451-4058-9cf5-db0bfaa6121f"
      },
      "outputs": [
        {
          "name": "stdout",
          "output_type": "stream",
          "text": [
            "Accuracy of K nearest Neighbour is 79.16666666666666\n",
            "Recall of K nearest Neighbour is 0.7\n",
            "Precision of K nearest Neighbour is 0.7777777777777778\n",
            "f1_score of K nearest Neighbour is 0.7368421052631577\n"
          ]
        }
      ],
      "source": [
        "print(\"Accuracy of K nearest Neighbour is\" ,metrics.accuracy_score(y_test, y_predict_knn)*100)\n",
        "print(\"Recall of K nearest Neighbour is\",metrics.recall_score(y_test, y_predict_knn, pos_label=\"Placed\"))\n",
        "print(\"Precision of K nearest Neighbour is\",metrics.precision_score(y_test, y_predict_knn, pos_label=\"Placed\"))\n",
        "print(\"f1_score of K nearest Neighbour is\",metrics.f1_score(y_test, y_predict_knn, pos_label=\"Placed\"))"
      ]
    },
    {
      "cell_type": "code",
      "execution_count": null,
      "metadata": {
        "id": "TE46ezRz6449"
      },
      "outputs": [],
      "source": [
        "model = LogisticRegression(max_iter=2000)\n",
        "model = model.fit(X_train,y_train)\n",
        "y_predict_lr = model.predict(X_test)"
      ]
    },
    {
      "cell_type": "code",
      "execution_count": null,
      "metadata": {
        "id": "OPZtdp_96449",
        "outputId": "d805897f-44ad-458b-86aa-23d31c3be9b9"
      },
      "outputs": [
        {
          "data": {
            "text/html": [
              "<div>\n",
              "<style scoped>\n",
              "    .dataframe tbody tr th:only-of-type {\n",
              "        vertical-align: middle;\n",
              "    }\n",
              "\n",
              "    .dataframe tbody tr th {\n",
              "        vertical-align: top;\n",
              "    }\n",
              "\n",
              "    .dataframe thead th {\n",
              "        text-align: right;\n",
              "    }\n",
              "</style>\n",
              "<table border=\"1\" class=\"dataframe\">\n",
              "  <thead>\n",
              "    <tr style=\"text-align: right;\">\n",
              "      <th></th>\n",
              "      <th>predicted</th>\n",
              "      <th>Actual</th>\n",
              "    </tr>\n",
              "  </thead>\n",
              "  <tbody>\n",
              "    <tr>\n",
              "      <th>45</th>\n",
              "      <td>Placed</td>\n",
              "      <td>Placed</td>\n",
              "    </tr>\n",
              "    <tr>\n",
              "      <th>95</th>\n",
              "      <td>Not placed</td>\n",
              "      <td>Not placed</td>\n",
              "    </tr>\n",
              "    <tr>\n",
              "      <th>56</th>\n",
              "      <td>Not placed</td>\n",
              "      <td>Not placed</td>\n",
              "    </tr>\n",
              "    <tr>\n",
              "      <th>84</th>\n",
              "      <td>Not placed</td>\n",
              "      <td>Placed</td>\n",
              "    </tr>\n",
              "    <tr>\n",
              "      <th>98</th>\n",
              "      <td>Placed</td>\n",
              "      <td>Placed</td>\n",
              "    </tr>\n",
              "  </tbody>\n",
              "</table>\n",
              "</div>"
            ],
            "text/plain": [
              "     predicted      Actual\n",
              "45      Placed      Placed\n",
              "95  Not placed  Not placed\n",
              "56  Not placed  Not placed\n",
              "84  Not placed      Placed\n",
              "98      Placed      Placed"
            ]
          },
          "execution_count": 34,
          "metadata": {},
          "output_type": "execute_result"
        }
      ],
      "source": [
        "Actual_predicted=pd.DataFrame({'predicted':y_predict_lr, 'Actual':y_test})\n",
        "Actual_predicted.head()"
      ]
    },
    {
      "cell_type": "code",
      "execution_count": null,
      "metadata": {
        "id": "zuqVOiml644-",
        "outputId": "5a818fba-d50f-48a2-9fe2-c066fc036d17"
      },
      "outputs": [
        {
          "data": {
            "text/html": [
              "<div>\n",
              "<style scoped>\n",
              "    .dataframe tbody tr th:only-of-type {\n",
              "        vertical-align: middle;\n",
              "    }\n",
              "\n",
              "    .dataframe tbody tr th {\n",
              "        vertical-align: top;\n",
              "    }\n",
              "\n",
              "    .dataframe thead th {\n",
              "        text-align: right;\n",
              "    }\n",
              "</style>\n",
              "<table border=\"1\" class=\"dataframe\">\n",
              "  <thead>\n",
              "    <tr style=\"text-align: right;\">\n",
              "      <th></th>\n",
              "      <th>Not placed Predicted</th>\n",
              "      <th>placed predicted</th>\n",
              "    </tr>\n",
              "  </thead>\n",
              "  <tbody>\n",
              "    <tr>\n",
              "      <th>Not placed</th>\n",
              "      <td>12</td>\n",
              "      <td>2</td>\n",
              "    </tr>\n",
              "    <tr>\n",
              "      <th>placed</th>\n",
              "      <td>0</td>\n",
              "      <td>10</td>\n",
              "    </tr>\n",
              "  </tbody>\n",
              "</table>\n",
              "</div>"
            ],
            "text/plain": [
              "            Not placed Predicted  placed predicted\n",
              "Not placed                    12                 2\n",
              "placed                         0                10"
            ]
          },
          "execution_count": 23,
          "metadata": {},
          "output_type": "execute_result"
        }
      ],
      "source": [
        "from sklearn.metrics import confusion_matrix\n",
        "\n",
        "pd.DataFrame(\n",
        "    confusion_matrix(y_test, y_predict_lr),\n",
        "    columns=['Not placed Predicted', 'placed predicted'],\n",
        "    index=['Not placed', 'placed']\n",
        ")"
      ]
    },
    {
      "cell_type": "code",
      "execution_count": null,
      "metadata": {
        "id": "QrMWY6jJ644-",
        "outputId": "d0d4ae83-9526-4e9c-ee9b-de6e43f0498f"
      },
      "outputs": [
        {
          "name": "stdout",
          "output_type": "stream",
          "text": [
            "Accuracy of Logistic Regresssion is  91.66666666666666\n",
            "recall of Logistic Regresssion is 1.0\n",
            "Precision of Logistic Regresssion is 0.8333333333333334\n",
            "f1_score of Logistic Regresssion is 0.9090909090909091\n"
          ]
        }
      ],
      "source": [
        "print(\"Accuracy of Logistic Regresssion is \" ,metrics.accuracy_score(y_test, y_predict_lr)*100)\n",
        "print(\"recall of Logistic Regresssion is\",metrics.recall_score(y_test, y_predict_lr, pos_label=\"Placed\"))\n",
        "print(\"Precision of Logistic Regresssion is\",metrics.precision_score(y_test, y_predict_lr, pos_label=\"Placed\"))\n",
        "print(\"f1_score of Logistic Regresssion is\",metrics.f1_score(y_test, y_predict_lr, pos_label=\"Placed\"))"
      ]
    },
    {
      "cell_type": "code",
      "execution_count": null,
      "metadata": {
        "id": "lIuO4RxC644-"
      },
      "outputs": [],
      "source": [
        "model = SVC()\n",
        "model = model.fit(X_train,y_train)\n",
        "y_predict_svc = model.predict(X_test)"
      ]
    },
    {
      "cell_type": "code",
      "execution_count": null,
      "metadata": {
        "id": "k42WfurI644-",
        "outputId": "479a442e-de4e-439d-f1cc-8261a3903720"
      },
      "outputs": [
        {
          "data": {
            "text/html": [
              "<div>\n",
              "<style scoped>\n",
              "    .dataframe tbody tr th:only-of-type {\n",
              "        vertical-align: middle;\n",
              "    }\n",
              "\n",
              "    .dataframe tbody tr th {\n",
              "        vertical-align: top;\n",
              "    }\n",
              "\n",
              "    .dataframe thead th {\n",
              "        text-align: right;\n",
              "    }\n",
              "</style>\n",
              "<table border=\"1\" class=\"dataframe\">\n",
              "  <thead>\n",
              "    <tr style=\"text-align: right;\">\n",
              "      <th></th>\n",
              "      <th>predicted</th>\n",
              "      <th>Actual</th>\n",
              "    </tr>\n",
              "  </thead>\n",
              "  <tbody>\n",
              "    <tr>\n",
              "      <th>45</th>\n",
              "      <td>Not placed</td>\n",
              "      <td>Placed</td>\n",
              "    </tr>\n",
              "    <tr>\n",
              "      <th>95</th>\n",
              "      <td>Not placed</td>\n",
              "      <td>Not placed</td>\n",
              "    </tr>\n",
              "    <tr>\n",
              "      <th>56</th>\n",
              "      <td>Not placed</td>\n",
              "      <td>Not placed</td>\n",
              "    </tr>\n",
              "    <tr>\n",
              "      <th>84</th>\n",
              "      <td>Not placed</td>\n",
              "      <td>Placed</td>\n",
              "    </tr>\n",
              "    <tr>\n",
              "      <th>98</th>\n",
              "      <td>Placed</td>\n",
              "      <td>Placed</td>\n",
              "    </tr>\n",
              "  </tbody>\n",
              "</table>\n",
              "</div>"
            ],
            "text/plain": [
              "     predicted      Actual\n",
              "45  Not placed      Placed\n",
              "95  Not placed  Not placed\n",
              "56  Not placed  Not placed\n",
              "84  Not placed      Placed\n",
              "98      Placed      Placed"
            ]
          },
          "execution_count": 26,
          "metadata": {},
          "output_type": "execute_result"
        }
      ],
      "source": [
        "Actual_predicted=pd.DataFrame({'predicted':y_predict_svc, 'Actual':y_test})\n",
        "Actual_predicted.head()"
      ]
    },
    {
      "cell_type": "code",
      "execution_count": null,
      "metadata": {
        "id": "UeMfzLb4644-",
        "outputId": "43b9c64e-bcdb-4497-8ea5-2b38c3690afc"
      },
      "outputs": [
        {
          "data": {
            "text/html": [
              "<div>\n",
              "<style scoped>\n",
              "    .dataframe tbody tr th:only-of-type {\n",
              "        vertical-align: middle;\n",
              "    }\n",
              "\n",
              "    .dataframe tbody tr th {\n",
              "        vertical-align: top;\n",
              "    }\n",
              "\n",
              "    .dataframe thead th {\n",
              "        text-align: right;\n",
              "    }\n",
              "</style>\n",
              "<table border=\"1\" class=\"dataframe\">\n",
              "  <thead>\n",
              "    <tr style=\"text-align: right;\">\n",
              "      <th></th>\n",
              "      <th>Not placed Predicted</th>\n",
              "      <th>placed predicted</th>\n",
              "    </tr>\n",
              "  </thead>\n",
              "  <tbody>\n",
              "    <tr>\n",
              "      <th>Not placed</th>\n",
              "      <td>14</td>\n",
              "      <td>0</td>\n",
              "    </tr>\n",
              "    <tr>\n",
              "      <th>placed</th>\n",
              "      <td>6</td>\n",
              "      <td>4</td>\n",
              "    </tr>\n",
              "  </tbody>\n",
              "</table>\n",
              "</div>"
            ],
            "text/plain": [
              "            Not placed Predicted  placed predicted\n",
              "Not placed                    14                 0\n",
              "placed                         6                 4"
            ]
          },
          "execution_count": 27,
          "metadata": {},
          "output_type": "execute_result"
        }
      ],
      "source": [
        "from sklearn.metrics import confusion_matrix\n",
        "\n",
        "pd.DataFrame(\n",
        "    confusion_matrix(y_test, y_predict_svc),\n",
        "    columns=['Not placed Predicted', 'placed predicted'],\n",
        "    index=['Not placed', 'placed']\n",
        ")"
      ]
    },
    {
      "cell_type": "code",
      "execution_count": null,
      "metadata": {
        "id": "8cWlMsoh644_",
        "outputId": "d9619005-c51c-45cf-cccf-a55f4a3fc8c2"
      },
      "outputs": [
        {
          "name": "stdout",
          "output_type": "stream",
          "text": [
            "Accuracy of Support Vector Machine is  75.0\n",
            "recall of Support Vector Machine is 0.4\n",
            "Precision of Support Vector Machine is 1.0\n",
            "f1_score of Support Vector Machine is 0.5714285714285715\n"
          ]
        }
      ],
      "source": [
        "print(\"Accuracy of Support Vector Machine is \" ,metrics.accuracy_score(y_test, y_predict_svc)*100)\n",
        "print(\"recall of Support Vector Machine is\",metrics.recall_score(y_test, y_predict_svc, pos_label=\"Placed\"))\n",
        "print(\"Precision of Support Vector Machine is\",metrics.precision_score(y_test, y_predict_svc, pos_label=\"Placed\"))\n",
        "print(\"f1_score of Support Vector Machine is\",metrics.f1_score(y_test, y_predict_svc, pos_label=\"Placed\"))"
      ]
    },
    {
      "cell_type": "code",
      "execution_count": null,
      "metadata": {
        "id": "55RpSNKV644_"
      },
      "outputs": [],
      "source": [
        "model = GaussianNB()\n",
        "model = model.fit(X_train,y_train)\n",
        "y_predict_nb = model.predict(X_test)"
      ]
    },
    {
      "cell_type": "code",
      "execution_count": null,
      "metadata": {
        "id": "wR8_OfIF644_",
        "outputId": "c7f57d03-5388-4fb7-9b02-5596d425037e"
      },
      "outputs": [
        {
          "data": {
            "text/html": [
              "<div>\n",
              "<style scoped>\n",
              "    .dataframe tbody tr th:only-of-type {\n",
              "        vertical-align: middle;\n",
              "    }\n",
              "\n",
              "    .dataframe tbody tr th {\n",
              "        vertical-align: top;\n",
              "    }\n",
              "\n",
              "    .dataframe thead th {\n",
              "        text-align: right;\n",
              "    }\n",
              "</style>\n",
              "<table border=\"1\" class=\"dataframe\">\n",
              "  <thead>\n",
              "    <tr style=\"text-align: right;\">\n",
              "      <th></th>\n",
              "      <th>predicted</th>\n",
              "      <th>Actual</th>\n",
              "    </tr>\n",
              "  </thead>\n",
              "  <tbody>\n",
              "    <tr>\n",
              "      <th>45</th>\n",
              "      <td>Not placed</td>\n",
              "      <td>Placed</td>\n",
              "    </tr>\n",
              "    <tr>\n",
              "      <th>95</th>\n",
              "      <td>Not placed</td>\n",
              "      <td>Not placed</td>\n",
              "    </tr>\n",
              "    <tr>\n",
              "      <th>56</th>\n",
              "      <td>Not placed</td>\n",
              "      <td>Not placed</td>\n",
              "    </tr>\n",
              "    <tr>\n",
              "      <th>84</th>\n",
              "      <td>Not placed</td>\n",
              "      <td>Placed</td>\n",
              "    </tr>\n",
              "    <tr>\n",
              "      <th>98</th>\n",
              "      <td>Placed</td>\n",
              "      <td>Placed</td>\n",
              "    </tr>\n",
              "  </tbody>\n",
              "</table>\n",
              "</div>"
            ],
            "text/plain": [
              "     predicted      Actual\n",
              "45  Not placed      Placed\n",
              "95  Not placed  Not placed\n",
              "56  Not placed  Not placed\n",
              "84  Not placed      Placed\n",
              "98      Placed      Placed"
            ]
          },
          "execution_count": 30,
          "metadata": {},
          "output_type": "execute_result"
        }
      ],
      "source": [
        "Actual_predicted=pd.DataFrame({'predicted':y_predict_svc, 'Actual':y_test})\n",
        "Actual_predicted.head()"
      ]
    },
    {
      "cell_type": "code",
      "execution_count": null,
      "metadata": {
        "id": "kVEY5Wqj644_",
        "outputId": "f73f9b74-f966-4d20-99e5-a68b40b33305"
      },
      "outputs": [
        {
          "data": {
            "text/html": [
              "<div>\n",
              "<style scoped>\n",
              "    .dataframe tbody tr th:only-of-type {\n",
              "        vertical-align: middle;\n",
              "    }\n",
              "\n",
              "    .dataframe tbody tr th {\n",
              "        vertical-align: top;\n",
              "    }\n",
              "\n",
              "    .dataframe thead th {\n",
              "        text-align: right;\n",
              "    }\n",
              "</style>\n",
              "<table border=\"1\" class=\"dataframe\">\n",
              "  <thead>\n",
              "    <tr style=\"text-align: right;\">\n",
              "      <th></th>\n",
              "      <th>Not placed Predicted</th>\n",
              "      <th>placed predicted</th>\n",
              "    </tr>\n",
              "  </thead>\n",
              "  <tbody>\n",
              "    <tr>\n",
              "      <th>Not placed</th>\n",
              "      <td>14</td>\n",
              "      <td>0</td>\n",
              "    </tr>\n",
              "    <tr>\n",
              "      <th>placed</th>\n",
              "      <td>6</td>\n",
              "      <td>4</td>\n",
              "    </tr>\n",
              "  </tbody>\n",
              "</table>\n",
              "</div>"
            ],
            "text/plain": [
              "            Not placed Predicted  placed predicted\n",
              "Not placed                    14                 0\n",
              "placed                         6                 4"
            ]
          },
          "execution_count": 31,
          "metadata": {},
          "output_type": "execute_result"
        }
      ],
      "source": [
        "from sklearn.metrics import confusion_matrix\n",
        "\n",
        "pd.DataFrame(\n",
        "    confusion_matrix(y_test, y_predict_svc),\n",
        "    columns=['Not placed Predicted', 'placed predicted'],\n",
        "    index=['Not placed', 'placed']\n",
        ")"
      ]
    },
    {
      "cell_type": "code",
      "execution_count": null,
      "metadata": {
        "id": "IbzfjoDl644_",
        "outputId": "83cf1652-1c33-4fb8-bc50-f7680b382bca"
      },
      "outputs": [
        {
          "name": "stdout",
          "output_type": "stream",
          "text": [
            "Accuracy of Naive bayes is  75.0\n",
            "recall of Naive bayes is 0.4\n",
            "Precision of Naive bayes is 1.0\n",
            "f1_score of Naive is 0.5714285714285715\n"
          ]
        }
      ],
      "source": [
        "print(\"Accuracy of Naive bayes is \" ,metrics.accuracy_score(y_test, y_predict_svc)*100)\n",
        "print(\"recall of Naive bayes is\",metrics.recall_score(y_test, y_predict_svc, pos_label=\"Placed\"))\n",
        "print(\"Precision of Naive bayes is\",metrics.precision_score(y_test, y_predict_svc, pos_label=\"Placed\"))\n",
        "print(\"f1_score of Naive is\",metrics.f1_score(y_test, y_predict_svc, pos_label=\"Placed\"))"
      ]
    }
  ],
  "metadata": {
    "kernelspec": {
      "display_name": "Python 3",
      "language": "python",
      "name": "python3"
    },
    "language_info": {
      "codemirror_mode": {
        "name": "ipython",
        "version": 3
      },
      "file_extension": ".py",
      "mimetype": "text/x-python",
      "name": "python",
      "nbconvert_exporter": "python",
      "pygments_lexer": "ipython3",
      "version": "3.8.3"
    },
    "colab": {
      "provenance": [],
      "include_colab_link": true
    }
  },
  "nbformat": 4,
  "nbformat_minor": 0
}